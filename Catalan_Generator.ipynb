{
 "cells": [
  {
   "cell_type": "markdown",
   "metadata": {
    "id": "N2AntrouHYn7"
   },
   "source": [
    "# Catalan Number Generator\n",
    "This notebook will explore how to generate catalan numbers and their respective sets"
   ]
  },
  {
   "cell_type": "markdown",
   "metadata": {
    "id": "bLKV5DBMAufZ"
   },
   "source": [
    "# First off we need to define some basic terminology used:\n",
    "## Dyck words\n",
    "## Catalan Numbers\n",
    "## Catalan Set\n",
    "## Balanced Parenthesis"
   ]
  },
  {
   "cell_type": "markdown",
   "metadata": {
    "id": "LSH8f0aKBW4o"
   },
   "source": [
    "# Our external libraries used are used as follows:\n",
    "* randint - used to generate a specific random dyckword of a given length by "
   ]
  },
  {
   "cell_type": "code",
   "execution_count": null,
   "metadata": {
    "id": "P1-NQ93b7Lmv"
   },
   "outputs": [],
   "source": [
    "from random import randint\n",
    "from timeit import default_timer as timer\n",
    "from struct import unpack"
   ]
  },
  {
   "cell_type": "code",
   "execution_count": null,
   "metadata": {
    "id": "nV8ZFsrNrE0O"
   },
   "outputs": [],
   "source": [
    "def randomDyckWord(output, open, close, pairs):\n",
    "  if open == pairs and close == pairs:\n",
    "    return output\n",
    "  else:\n",
    "    to_be_appended = randint(0, 1)\n",
    "    if to_be_appended == 1 and open < pairs:\n",
    "      return randomDyckWord(output+'1', open+1, close, pairs)\n",
    "    elif to_be_appended == 0 and close < open:\n",
    "      return randomDyckWord(output+'0', open, close+1, pairs)\n",
    "    else:\n",
    "      return randomDyckWord(output, open, close, pairs)"
   ]
  },
  {
   "cell_type": "markdown",
   "metadata": {
    "id": "SxAUml9tCEx8"
   },
   "source": [
    "input: empty string (output), integer 0 (open y close), integer which indicates the number of pair of 0 and 1 to use in the permutation (pairs).\n",
    "\n",
    "funcion: Output all posible permutations (string) that can be made with a given number of pairs of 1 and 0 (pairs). "
   ]
  },
  {
   "cell_type": "code",
   "execution_count": null,
   "metadata": {
    "id": "qqHc4rjEhLsj"
   },
   "outputs": [],
   "source": [
    "def dyckWords(output, open, close, pairs):\n",
    "    if open == pairs and close == pairs:\n",
    "        yield output\n",
    "    else:\n",
    "        if open < pairs:\n",
    "          yield from dyckWords(output+'1', open+1, close, pairs)\n",
    "        if close < open:\n",
    "          yield from dyckWords(output+'0', open, close+1, pairs)"
   ]
  },
  {
   "cell_type": "code",
   "execution_count": null,
   "metadata": {
    "id": "Z5lxhvacwaJ9"
   },
   "outputs": [],
   "source": [
    "def areParenthesisBalanced(expr): \n",
    "    stack = []  \n",
    "    for char in expr: \n",
    "        if char == '1':   \n",
    "            stack.append(char) \n",
    "        else:\n",
    "            if not stack: \n",
    "                return False\n",
    "            current_char = stack.pop() \n",
    "            if current_char == '1': \n",
    "                if char != \"0\": \n",
    "                    return False\n",
    "    if stack: \n",
    "        return False\n",
    "    return True"
   ]
  },
  {
   "cell_type": "markdown",
   "metadata": {
    "id": "ppIcj4oNAdmd"
   },
   "source": [
    "Hace una llave mas pequeña"
   ]
  },
  {
   "cell_type": "code",
   "execution_count": null,
   "metadata": {
    "id": "8-cwEn5ucEFt"
   },
   "outputs": [],
   "source": [
    "def retrieve_pairs(expr, pairs):\n",
    "  sub_key = str()\n",
    "  ones = 0\n",
    "  zeroes = 0\n",
    "  for char in expr:\n",
    "    if char == '1' and ones < pairs:\n",
    "      sub_key += '1'\n",
    "      ones += 1\n",
    "    elif char == '0' and zeroes < ones:\n",
    "      sub_key += '0'\n",
    "      zeroes += 1\n",
    "  return sub_key"
   ]
  },
  {
   "cell_type": "code",
   "execution_count": null,
   "metadata": {
    "colab": {
     "base_uri": "https://localhost:8080/",
     "height": 36
    },
    "id": "7km09MYt_vPH",
    "outputId": "66ecbcde-358c-402e-b569-cbf013ddcbe4"
   },
   "outputs": [
    {
     "data": {
      "application/vnd.google.colaboratory.intrinsic+json": {
       "type": "string"
      },
      "text/plain": [
       "'11010100'"
      ]
     },
     "execution_count": 6,
     "metadata": {
      "tags": []
     },
     "output_type": "execute_result"
    }
   ],
   "source": [
    "retrieve_pairs(\"110101101000\", 4)"
   ]
  },
  {
   "cell_type": "code",
   "execution_count": null,
   "metadata": {
    "id": "0t0D6EkY9YRw"
   },
   "outputs": [],
   "source": [
    "def stack_encrypt(text, key):\n",
    "  cypher_text = str()\n",
    "  text_lst = [str(char) for char in text]\n",
    "  stack = list()\n",
    "  for op in key:\n",
    "    if op == '1':\n",
    "      stack.append(text_lst.pop(0))\n",
    "    if op == '0':\n",
    "      cypher_text += stack.pop()\n",
    "  return cypher_text"
   ]
  },
  {
   "cell_type": "code",
   "execution_count": null,
   "metadata": {
    "id": "yxPmSDm8AY9n"
   },
   "outputs": [],
   "source": [
    "def stack_decrypt(cypher, key):\n",
    "  inverted_key = \"\".join([str(int(not int(i))) for i in key])[::-1]\n",
    "  cypher_lst = [str(char) for char in cypher][::-1]\n",
    "  decyphered_text = str()\n",
    "  stack = list()\n",
    "  for op in inverted_key:\n",
    "    if op == '1':\n",
    "      stack.append(cypher_lst.pop(0))\n",
    "    if op == '0':\n",
    "      decyphered_text += stack.pop()\n",
    "  return decyphered_text[::-1]"
   ]
  },
  {
   "cell_type": "code",
   "execution_count": null,
   "metadata": {
    "id": "E85EF0KH3mba"
   },
   "outputs": [],
   "source": [
    "def catalan_encrypt(text, key):\n",
    "  cypher_text = str()\n",
    "  half_key_len = int(len(key)/2)\n",
    "  if half_key_len <= len(text):\n",
    "    # if key fits inside text\n",
    "    if len(text) % half_key_len == 0:\n",
    "      # if key fits perfectly inside text\n",
    "      for i in range(0, len(text), half_key_len):\n",
    "        segment = text[i:i+half_key_len]\n",
    "        cypher_text += stack_encrypt(segment, key)\n",
    "    else:\n",
    "      # if key fits inside text but not perfectly\n",
    "      special_segment_len = len(text) % half_key_len\n",
    "      special_segment = text[-special_segment_len:]\n",
    "      for i in range(0, len(text) - special_segment_len, half_key_len):\n",
    "        segment = text[i:i+half_key_len]\n",
    "        cypher_text += stack_encrypt(segment, key)\n",
    "      sub_key = retrieve_pairs(key, special_segment_len)\n",
    "      special_segment_cypher = stack_encrypt(special_segment, sub_key)\n",
    "      cypher_text += special_segment_cypher\n",
    "  elif half_key_len > len(text):\n",
    "    sub_key = retrieve_pairs(key, len(text))\n",
    "    cypher_text = stack_encrypt(text, sub_key)\n",
    "    \n",
    "  return cypher_text"
   ]
  },
  {
   "cell_type": "code",
   "execution_count": null,
   "metadata": {
    "id": "o36hLR2dLNk7"
   },
   "outputs": [],
   "source": [
    "def catalan_decrypt(cypher, key):\n",
    "  decyphered_text = str()\n",
    "  half_key_len = int(len(key)/2)\n",
    "  if half_key_len <= len(cypher):\n",
    "    # if key fits inside text\n",
    "    if len(cypher) % half_key_len == 0:\n",
    "      # if key fits perfectly inside text\n",
    "      for i in range(0, len(cypher), half_key_len):\n",
    "        segment = cypher[i:i+half_key_len]\n",
    "        decyphered_text += stack_decrypt(segment, key)\n",
    "    else:\n",
    "      # if key fits inside text but not perfectly\n",
    "      special_segment_len = len(cypher) % half_key_len\n",
    "      special_segment = cypher[-special_segment_len:]\n",
    "      for i in range(0, len(cypher) - special_segment_len, half_key_len):\n",
    "        segment = cypher[i:i+half_key_len]\n",
    "        decyphered_text += stack_decrypt(segment, key)\n",
    "      sub_key = retrieve_pairs(key, special_segment_len)\n",
    "      special_segment_decyphered = stack_decrypt(special_segment, sub_key)\n",
    "      decyphered_text += special_segment_decyphered\n",
    "  elif half_key_len > len(cypher):\n",
    "    sub_key = retrieve_pairs(key, len(cypher))\n",
    "    decyphered_text = stack_encrypt(cypher, sub_key)\n",
    "  return decyphered_text"
   ]
  },
  {
   "cell_type": "code",
   "execution_count": null,
   "metadata": {
    "colab": {
     "base_uri": "https://localhost:8080/",
     "height": 243
    },
    "id": "D8d-fDU7EAfP",
    "outputId": "6c58e4d8-9e58-4d45-d5d3-64dda6e76fb9"
   },
   "outputs": [
    {
     "name": "stdout",
     "output_type": "stream",
     "text": [
      "01100001\n",
      "01100010\n",
      "01100011\n",
      "01100100\n",
      "01100101\n",
      "01100110\n",
      "00100000\n",
      "01101000\n",
      "01100101\n",
      "01101100\n",
      "01101100\n",
      "01101111\n",
      "00001010\n"
     ]
    }
   ],
   "source": [
    "binary_string = str()\n",
    "with open(\"plainText.txt\", \"rb\") as f:\n",
    "  while (Byte := f.read(1)):\n",
    "    print(\"{0:08b}\".format(unpack(\"b\", Byte)[0]))"
   ]
  },
  {
   "cell_type": "code",
   "execution_count": null,
   "metadata": {
    "colab": {
     "base_uri": "https://localhost:8080/",
     "height": 52
    },
    "id": "hNCNfn-Uut-V",
    "outputId": "f2d112c7-22d1-4cba-9b3c-dafb17b41a68"
   },
   "outputs": [
    {
     "name": "stdout",
     "output_type": "stream",
     "text": [
      "Please enter desired key length: 4\n",
      "10110010\n"
     ]
    }
   ],
   "source": [
    "key_pairs = int(input(\"Please enter desired key length: \"))\n",
    "key = randomDyckWord('', 0, 0, key_pairs)\n",
    "print(key)"
   ]
  },
  {
   "cell_type": "code",
   "execution_count": null,
   "metadata": {
    "colab": {
     "base_uri": "https://localhost:8080/",
     "height": 52
    },
    "id": "IvrfRbpH9_sA",
    "outputId": "c0e38299-d1af-4d6a-babe-3173567317d7"
   },
   "outputs": [
    {
     "name": "stdout",
     "output_type": "stream",
     "text": [
      "11000001110010001100100111000100110001011100110010000000110000101100010111000110110001101100111100001010 \n",
      " 01100001011000100110001101100100011001010110011000100000011010000110010101101100011011000110111100001010\n"
     ]
    }
   ],
   "source": [
    "secret = catalan_encrypt(binary_string, key)\n",
    "message = catalan_decrypt(secret, key)\n",
    "print(secret, \"\\n\" , message)"
   ]
  }
 ],
 "metadata": {
  "colab": {
   "collapsed_sections": [],
   "name": "Catalan_Generator.ipynb",
   "provenance": []
  },
  "kernelspec": {
   "display_name": "Python 3",
   "language": "python",
   "name": "python3"
  },
  "language_info": {
   "codemirror_mode": {
    "name": "ipython",
    "version": 3
   },
   "file_extension": ".py",
   "mimetype": "text/x-python",
   "name": "python",
   "nbconvert_exporter": "python",
   "pygments_lexer": "ipython3",
   "version": "3.8.1"
  }
 },
 "nbformat": 4,
 "nbformat_minor": 1
}
